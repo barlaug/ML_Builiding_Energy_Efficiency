{
 "cells": [
  {
   "cell_type": "markdown",
   "metadata": {},
   "source": [
    "# LINEAR REGRESSION \n",
    "\n",
    "In this script, K-fold cross validation with ridge regression is applied in order to choose the best classification model for the cooling load. By adding different degrees of penalties to the weights in the linear regression, regularization allows us to make different models. The most appropriate choice of regularization is then made using cross-validation for model selection.\n",
    "\n",
    "The following solves a multiclass classification problem where a discretized version of the cooling load is our target variable. \n"
   ]
  },
  {
   "cell_type": "code",
   "execution_count": 17,
   "metadata": {},
   "outputs": [],
   "source": [
    "import pandas as pd \n",
    "import numpy as np \n",
    "from matplotlib.pyplot import figure, plot, xlabel, ylabel, show, xlim, ylim\n",
    "from sklearn.preprocessing import StandardScaler\n",
    "from sklearn import model_selection\n",
    "from sklearn.model_selection import KFold\n",
    "from sklearn.linear_model import Ridge\n",
    "from sklearn.metrics import mean_squared_error\n"
   ]
  },
  {
   "cell_type": "code",
   "execution_count": 18,
   "metadata": {},
   "outputs": [],
   "source": [
    "\n",
    "#loading the data\n",
    "filename = 'data/ENB2012_data.csv'\n",
    "df = pd.read_csv(filename)\n",
    "\n",
    "#Extracting the attributes\n",
    "raw_data = df.values\n",
    "X = raw_data[:,:8]\n",
    "attributeNames = np.asarray(df.columns[:8])\n",
    "\n",
    "#Extracting the class labels (cooling load)\n",
    "classLabels = raw_data[:,-1]"
   ]
  },
  {
   "cell_type": "code",
   "execution_count": 19,
   "metadata": {},
   "outputs": [],
   "source": [
    "#Discretize the Cooling Load (CL)\n",
    "nbClassCL = 4\n",
    "discrete_CL = []\n",
    "for cl in classLabels:\n",
    "    if cl <= 20:\n",
    "        discrete_CL.append('1')\n",
    "    elif cl <= 30:\n",
    "        discrete_CL.append('2')\n",
    "    elif cl <= 40:\n",
    "        discrete_CL.append('3')\n",
    "    else:\n",
    "        discrete_CL.append('4')\n",
    "\n",
    "\n",
    "#unique class labels\n",
    "classNames = np.unique(discrete_CL)"
   ]
  },
  {
   "cell_type": "code",
   "execution_count": 11,
   "metadata": {},
   "outputs": [],
   "source": [
    "#Set target and data\n",
    "\n",
    "#making a dictionary in order to assign each classlabel a unique number\n",
    "classDict = {\"1\": 3, \"2\": 2, \"3\": 1, \"4\": 0}\n",
    "\n",
    "#target vector y \n",
    "y = np.array([classDict[cl] for cl in discrete_CL])\n",
    "\n",
    "#Scaling the data (mean = 0, std = 1)\n",
    "Y = StandardScaler().fit_transform(X)\n",
    "\n",
    "#N = data objects, M = attributes, C = number of classes\n",
    "N, M = Y.shape\n",
    "C = len(classNames)"
   ]
  },
  {
   "cell_type": "markdown",
   "metadata": {},
   "source": [
    "### K-fold cross-validation for model selection"
   ]
  },
  {
   "cell_type": "code",
   "execution_count": 20,
   "metadata": {},
   "outputs": [],
   "source": [
    "\n",
    "#Each lambda creates a new model \n",
    "#lambdas = np.power(10.,range(-8,3)) \n",
    "lambdas2 = np.arange(0.0001,0.02,0.0001)\n",
    "S = len(lambdas2)\n",
    "\n",
    "# K=10 fold cross-validation \n",
    "K = 10\n",
    "CV = model_selection.KFold(n_splits=K,shuffle=True)\n",
    "\n",
    "# Initializing test error matrix\n",
    "Error_test = np.zeros((S,K))\n",
    "\n",
    "k=0\n",
    "for train_index, test_index in CV.split(Y):\n",
    "\n",
    "    # extract training and test set for current CV fold\n",
    "    X_train, y_train = X[train_index,:], y[train_index]\n",
    "    X_test, y_test = X[test_index,:], y[test_index]\n",
    "\n",
    "\n",
    "    for i in range(S):\n",
    "\n",
    "        ridge = Ridge(lambdas2[i])\n",
    "        ridge.fit(X_train,y_train)\n",
    "        \n",
    "\n",
    "        # making predictions on test set\n",
    "        y_pred_test = ridge.predict(X_test)\n",
    "        Error_test[i,k] = mean_squared_error(y_test, y_pred_test)\n",
    "\n",
    " \n",
    "        \n",
    "    k+=1\n",
    "\n",
    "#print(Error_test)\n",
    "\n",
    "\n"
   ]
  },
  {
   "cell_type": "code",
   "execution_count": 22,
   "metadata": {},
   "outputs": [
    {
     "data": {
      "image/png": "[encoded data removed]",
      "text/plain": [
       "<Figure size 432x288 with 1 Axes>"
      ]
     },
     "metadata": {
      "needs_background": "light"
     },
     "output_type": "display_data"
    },
    {
     "name": "stdout",
     "output_type": "stream",
     "text": [
      "best lambda =  0.003\n",
      "min error =  0.18663566814381255\n"
     ]
    }
   ],
   "source": [
    "#Plotting the generalization error as a function of lambda:\n",
    "\n",
    "f = figure()\n",
    "plot(lambdas2, Error_test.mean(1))\n",
    "xlabel('λ')\n",
    "xlim(0,np.max(lambdas2))\n",
    "ylim(np.min(Error_test.mean(1)),np.max(Error_test.mean(1)))\n",
    "ylabel('Generalization error')\n",
    "    \n",
    "show()\n",
    "\n",
    "print( \"best lambda = \", lambdas2[np.argmin(Error_test.mean(1))] )\n",
    "print( \"min error = \", np.min(Error_test.mean(1)) )\n"
   ]
  },
  {
   "cell_type": "code",
   "execution_count": null,
   "metadata": {},
   "outputs": [],
   "source": []
  }
 ],
 "metadata": {
  "kernelspec": {
   "display_name": "Python 3.9.12 ('base')",
   "language": "python",
   "name": "python3"
  },
  "language_info": {
   "codemirror_mode": {
    "name": "ipython",
    "version": 3
   },
   "file_extension": ".py",
   "mimetype": "text/x-python",
   "name": "python",
   "nbconvert_exporter": "python",
   "pygments_lexer": "ipython3",
   "version": "3.9.12"
  },
  "orig_nbformat": 4,
  "vscode": {
   "interpreter": {
    "hash": "aae75fb4c4e28f3fda60e5eda70c237ec76be20ea0bc0d2e1a8874fab74ff8f3"
   }
  }
 },
 "nbformat": 4,
 "nbformat_minor": 2
}
